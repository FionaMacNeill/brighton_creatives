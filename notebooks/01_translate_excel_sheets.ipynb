{
 "cells": [
  {
   "cell_type": "code",
   "execution_count": null,
   "id": "99409af8-4833-4347-89a8-b39744f791ea",
   "metadata": {},
   "outputs": [],
   "source": [
    "from bs4 import BeautifulSoup\n",
    "import chardet\n",
    "import datetime\n",
    "import duckdb\n",
    "import io\n",
    "import pandas as pd\n",
    "import requests"
   ]
  },
  {
   "cell_type": "code",
   "execution_count": null,
   "id": "da0b613a-4db0-4cf4-b3f4-9c00f79baa3f",
   "metadata": {},
   "outputs": [],
   "source": [
    "DATA_PATH = '../data/'\n",
    "PATH_TO_DB = DATA_PATH+'creatives.duckdb'\n",
    "\n",
    "PATH_TO_XCL = DATA_PATH+'excel/'                # input\n",
    "FILENAME_OTHERS_LIST = \\\n",
    "[\n",
    "    \"bar-617-chart-5.csv\",\n",
    "    \"local_authority_data_for_corporate_and_finance.csv\",\n",
    "    \"searches.csv\",\n",
    "    \"series-040525.csv\",\n",
    "    \"series-050525 copy.csv\",\n",
    "    \"series-050525-2.csv\",\n",
    "    \"series-050525-3.csv\",\n",
    "    \"series-050525-4.csv\",\n",
    "    \"series-050525.csv\",\n",
    "    \"sparql_result.csv\",\n",
    "    \"Table-617-chart-8.csv\",\n",
    "]"
   ]
  }
 ],
 "metadata": {
  "kernelspec": {
   "display_name": "Python 3 (ipykernel)",
   "language": "python",
   "name": "python3"
  },
  "language_info": {
   "codemirror_mode": {
    "name": "ipython",
    "version": 3
   },
   "file_extension": ".py",
   "mimetype": "text/x-python",
   "name": "python",
   "nbconvert_exporter": "python",
   "pygments_lexer": "ipython3",
   "version": "3.8.18"
  }
 },
 "nbformat": 4,
 "nbformat_minor": 5
}
